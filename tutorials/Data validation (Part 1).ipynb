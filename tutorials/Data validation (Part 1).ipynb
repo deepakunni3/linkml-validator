{
 "cells": [
  {
   "cell_type": "markdown",
   "id": "7984f5ae",
   "metadata": {},
   "source": [
    "# Data validation (Part 1)"
   ]
  },
  {
   "cell_type": "markdown",
   "id": "dfd9add2",
   "metadata": {},
   "source": [
    "This is a quick example on how to use the linkml-validator to validate an object against a given LinkML schema."
   ]
  },
  {
   "cell_type": "markdown",
   "id": "58397c59",
   "metadata": {},
   "source": [
    "## Schema"
   ]
  },
  {
   "cell_type": "markdown",
   "id": "0b68b0b0",
   "metadata": {},
   "source": [
    "First you define the schema YAML:"
   ]
  },
  {
   "cell_type": "code",
   "execution_count": 1,
   "id": "36b3798c",
   "metadata": {},
   "outputs": [],
   "source": [
    "schema = \"\"\"\n",
    "\n",
    "id: https://w3id.org/Example-Schema\n",
    "name: Example-Schema\n",
    "description: >-\n",
    "  An Example Schema\n",
    "version: 0.0.0\n",
    "imports:\n",
    "  - linkml:types\n",
    "\n",
    "prefixes:\n",
    "  linkml: https://w3id.org/linkml/\n",
    "  example: https://w3id.org/example/\n",
    "\n",
    "default_prefix: example\n",
    "\n",
    "classes:\n",
    "  named thing:\n",
    "    slots:\n",
    "      - id\n",
    "      - name\n",
    "      - type\n",
    "\n",
    "slots:\n",
    "  id:\n",
    "    required: true\n",
    "\n",
    "  name:\n",
    "    range: string\n",
    "\n",
    "  type:\n",
    "    range: type_enum\n",
    "\n",
    "enums:\n",
    "  type_enum:\n",
    "    permissible_values:\n",
    "      X:\n",
    "      Y:\n",
    "      Z:\n",
    "\n",
    "\"\"\""
   ]
  },
  {
   "cell_type": "markdown",
   "id": "236b9d96",
   "metadata": {},
   "source": [
    "## Data as an object"
   ]
  },
  {
   "cell_type": "markdown",
   "id": "afb34848",
   "metadata": {},
   "source": [
    "Then define the data as a JSON object:"
   ]
  },
  {
   "cell_type": "code",
   "execution_count": 2,
   "id": "0ce2d92d",
   "metadata": {},
   "outputs": [],
   "source": [
    "data = {\n",
    "    \"id\": \"obj1\",\n",
    "    \"name\": \"Object 1\",\n",
    "    \"type\": \"X\"\n",
    "}"
   ]
  },
  {
   "cell_type": "markdown",
   "id": "1a9af55a",
   "metadata": {},
   "source": [
    "Now, you can instantiate the Validator with the defined schema:"
   ]
  },
  {
   "cell_type": "code",
   "execution_count": 3,
   "id": "7472e454",
   "metadata": {},
   "outputs": [],
   "source": [
    "from linkml_validator.validator import Validator\n",
    "\n",
    "validator = Validator(schema=schema)"
   ]
  },
  {
   "cell_type": "markdown",
   "id": "344619d6",
   "metadata": {},
   "source": [
    "And then run the `validate` method to validate the defined object:"
   ]
  },
  {
   "cell_type": "code",
   "execution_count": 4,
   "id": "c77ca267",
   "metadata": {},
   "outputs": [
    {
     "name": "stdout",
     "output_type": "stream",
     "text": [
      "Object valid: True\n"
     ]
    }
   ],
   "source": [
    "report = validator.validate(obj=data, target_class='NamedThing')\n",
    "print(f\"Object valid: {report.valid}\")"
   ]
  },
  {
   "cell_type": "markdown",
   "id": "38e4375e",
   "metadata": {},
   "source": [
    "## Data as a list of objects"
   ]
  },
  {
   "cell_type": "markdown",
   "id": "4dc570be",
   "metadata": {},
   "source": [
    "If your data is a list of objects:"
   ]
  },
  {
   "cell_type": "code",
   "execution_count": 5,
   "id": "ef7fbd98",
   "metadata": {},
   "outputs": [],
   "source": [
    "data = [\n",
    "    {\n",
    "        \"id\": \"obj1\",\n",
    "        \"name\": \"Object 1\",\n",
    "        \"type\": \"X\"\n",
    "    },\n",
    "    {\n",
    "        \"id\": \"obj2\",\n",
    "        \"name\": \"Object 2\",\n",
    "        \"type\": \"Y\"\n",
    "    }\n",
    "]"
   ]
  },
  {
   "cell_type": "markdown",
   "id": "63e6e6b7",
   "metadata": {},
   "source": [
    "You can run the validate method to validate each object in the list:"
   ]
  },
  {
   "cell_type": "code",
   "execution_count": 6,
   "id": "a4990faa",
   "metadata": {},
   "outputs": [
    {
     "name": "stdout",
     "output_type": "stream",
     "text": [
      "Object valid: True\n",
      "Object valid: True\n"
     ]
    }
   ],
   "source": [
    "for obj in data:\n",
    "    report = validator.validate(obj=obj, target_class='NamedThing')\n",
    "    print(f\"Object valid: {report.valid}\")"
   ]
  },
  {
   "cell_type": "markdown",
   "id": "a03fbc91",
   "metadata": {},
   "source": [
    "## Validating invalid data"
   ]
  },
  {
   "cell_type": "markdown",
   "id": "a7e41ede",
   "metadata": {},
   "source": [
    "Lets assume we have a list of objects of which two of the objects violates the schema:"
   ]
  },
  {
   "cell_type": "code",
   "execution_count": 7,
   "id": "7107f342",
   "metadata": {},
   "outputs": [],
   "source": [
    "data = [\n",
    "    {\n",
    "        \"id\": \"obj1\",\n",
    "        \"name\": \"Object 1\",\n",
    "        \"type\": \"X\"\n",
    "    },\n",
    "    {\n",
    "        \"id\": \"obj2\",\n",
    "        \"name\": \"Object 2\",\n",
    "        \"type\": \"Y\"\n",
    "    },\n",
    "    {\n",
    "        \"name\": \"Object 3\", # <-- Missing 'id' field\n",
    "        \"type\": \"Y\"\n",
    "    },\n",
    "    {\n",
    "        \"id\": \"obj4\",\n",
    "        \"name\": \"Object 4\",\n",
    "        \"type\": \"ABC\" # <-- Incorrect enum used for 'type'\n",
    "    }\n",
    "]"
   ]
  },
  {
   "cell_type": "markdown",
   "id": "99e9ed95",
   "metadata": {},
   "source": [
    "Then when we run the validation on all the objects in the list, we should see some errors reported:"
   ]
  },
  {
   "cell_type": "code",
   "execution_count": 8,
   "id": "00b6810e",
   "metadata": {},
   "outputs": [
    {
     "name": "stdout",
     "output_type": "stream",
     "text": [
      "Object valid: True\n",
      "Object valid: True\n",
      "Object valid: False\n",
      "Object valid: False\n"
     ]
    }
   ],
   "source": [
    "for obj in data:\n",
    "    report = validator.validate(obj=obj, target_class='NamedThing')\n",
    "    print(f\"Object valid: {report.valid}\")"
   ]
  },
  {
   "cell_type": "markdown",
   "id": "24b980e9",
   "metadata": {},
   "source": [
    "But why?"
   ]
  },
  {
   "cell_type": "code",
   "execution_count": 9,
   "id": "e4515063",
   "metadata": {},
   "outputs": [
    {
     "name": "stdout",
     "output_type": "stream",
     "text": [
      "Object valid: True\n",
      "Object valid: True\n",
      "Object valid: False\n",
      "[JsonSchemaValidationPlugin] 'id' is a required property for {'name': 'Object 3', 'type': 'Y'}\n",
      "Object valid: False\n",
      "[JsonSchemaValidationPlugin] 'ABC' is not one of ['X', 'Y', 'Z'] for {'id': 'obj4', 'name': 'Object 4', 'type': 'ABC'}\n"
     ]
    }
   ],
   "source": [
    "for obj in data:\n",
    "    report = validator.validate(obj=obj, target_class='NamedThing')\n",
    "    print(f\"Object valid: {report.valid}\")\n",
    "    if not report.valid:\n",
    "        for result in report.validation_results:\n",
    "            for message in result.validation_messages:\n",
    "                print(f\"[{result.plugin_name}] {message.message} for {report.object}\")"
   ]
  },
  {
   "cell_type": "code",
   "execution_count": null,
   "id": "881f486e",
   "metadata": {},
   "outputs": [],
   "source": []
  }
 ],
 "metadata": {
  "kernelspec": {
   "display_name": "Python 3 (ipykernel)",
   "language": "python",
   "name": "python3"
  },
  "language_info": {
   "codemirror_mode": {
    "name": "ipython",
    "version": 3
   },
   "file_extension": ".py",
   "mimetype": "text/x-python",
   "name": "python",
   "nbconvert_exporter": "python",
   "pygments_lexer": "ipython3",
   "version": "3.8.9"
  }
 },
 "nbformat": 4,
 "nbformat_minor": 5
}
