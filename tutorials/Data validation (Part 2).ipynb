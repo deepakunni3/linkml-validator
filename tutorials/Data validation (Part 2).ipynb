{
 "cells": [
  {
   "cell_type": "markdown",
   "id": "b69e2b52",
   "metadata": {},
   "source": [
    "# Data validation (Part 2)"
   ]
  },
  {
   "cell_type": "markdown",
   "id": "d41bb302",
   "metadata": {},
   "source": [
    "Let us consider a more realistic scenario where our data is to be validated against the Biolink Model.\n"
   ]
  },
  {
   "cell_type": "markdown",
   "id": "36c596c6",
   "metadata": {},
   "source": [
    "## Schema"
   ]
  },
  {
   "cell_type": "markdown",
   "id": "55c61534",
   "metadata": {},
   "source": [
    "We will use Biolink Model v3.1.1."
   ]
  },
  {
   "cell_type": "code",
   "execution_count": 1,
   "id": "a45ede11",
   "metadata": {},
   "outputs": [],
   "source": [
    "schema_url = \"https://raw.githubusercontent.com/biolink/biolink-model/v3.1.1/biolink-model.yaml\""
   ]
  },
  {
   "cell_type": "markdown",
   "id": "fccf92d3",
   "metadata": {},
   "source": [
    "## Data"
   ]
  },
  {
   "cell_type": "markdown",
   "id": "4c7b922a",
   "metadata": {},
   "source": [
    "And we have a list of Gene objects:"
   ]
  },
  {
   "cell_type": "code",
   "execution_count": 2,
   "id": "bd90f9cf",
   "metadata": {},
   "outputs": [],
   "source": [
    "data = [\n",
    "    {\n",
    "        \"category\": [\n",
    "            \"biolink:Gene\"\n",
    "        ],\n",
    "        \"id\": \"HGNC:10848\",\n",
    "        \"name\": \"SHH (human)\",\n",
    "        \"provided_by\": [\n",
    "            \"graph_nodes.tsv\"\n",
    "        ],\n",
    "        \"taxon\": \"NCBITaxon:9606\"\n",
    "    },\n",
    "    {\n",
    "        \"category\": [\n",
    "            \"biolink:Gene\"\n",
    "        ],\n",
    "        \"id\": \"NCBIGene:6469\",\n",
    "        \"name\": \"SHH\",\n",
    "        \"provided_by\": [\n",
    "            \"graph_nodes.tsv\"\n",
    "        ],\n",
    "        \"taxon\": \"NCBITaxon:9606\"\n",
    "    },\n",
    "    {\n",
    "        \"category\": [\n",
    "            \"biolink:Gene\"\n",
    "        ],\n",
    "        \"id\": \"HGNC:9398\",\n",
    "        \"name\": \"OLIG2\",\n",
    "        \"provided_by\": [\n",
    "            \"graph_nodes.tsv\"\n",
    "        ],\n",
    "        \"taxon\": \"NCBITaxon:9606\"\n",
    "    },\n",
    "    {\n",
    "        \"id\": \"HGNC:9399\", # <-- 'category' missing for object\n",
    "        \"name\": \"PRKCD\",\n",
    "        \"provided_by\": [\n",
    "            \"graph_nodes.tsv\"\n",
    "        ],\n",
    "        \"taxon\": \"NCBITaxon:9606\"\n",
    "    }\n",
    "]"
   ]
  },
  {
   "cell_type": "markdown",
   "id": "79c70738",
   "metadata": {},
   "source": [
    "## Validate data against the schema"
   ]
  },
  {
   "cell_type": "markdown",
   "id": "dc05ddc6",
   "metadata": {},
   "source": [
    "First we instantiate the Validator with the Biolink Model YAML:"
   ]
  },
  {
   "cell_type": "code",
   "execution_count": 3,
   "id": "ec720b3c",
   "metadata": {},
   "outputs": [],
   "source": [
    "from linkml_validator.validator import Validator\n",
    "\n",
    "validator = Validator(schema=schema_url)"
   ]
  },
  {
   "cell_type": "markdown",
   "id": "995fdc62",
   "metadata": {},
   "source": [
    "Then we can validate our data against the Biolink Model:"
   ]
  },
  {
   "cell_type": "code",
   "execution_count": 4,
   "id": "7c418d3e",
   "metadata": {},
   "outputs": [
    {
     "name": "stdout",
     "output_type": "stream",
     "text": [
      "Object valid: True\n",
      "Object valid: True\n",
      "Object valid: True\n",
      "Object valid: False\n",
      "[JsonSchemaValidationPlugin] 'category' is a required property for {'id': 'HGNC:9399', 'name': 'PRKCD', 'provided_by': ['graph_nodes.tsv'], 'taxon': 'NCBITaxon:9606'}\n"
     ]
    }
   ],
   "source": [
    "for obj in data:\n",
    "    report = validator.validate(obj=obj, target_class='Gene')\n",
    "    print(f\"Object valid: {report.valid}\")\n",
    "    if not report.valid:\n",
    "        for result in report.validation_results:\n",
    "            for message in result.validation_messages:\n",
    "                print(f\"[{result.plugin_name}] {message.message} for {report.object}\")"
   ]
  },
  {
   "cell_type": "code",
   "execution_count": null,
   "id": "e3ac48bf",
   "metadata": {},
   "outputs": [],
   "source": []
  }
 ],
 "metadata": {
  "kernelspec": {
   "display_name": "Python 3 (ipykernel)",
   "language": "python",
   "name": "python3"
  },
  "language_info": {
   "codemirror_mode": {
    "name": "ipython",
    "version": 3
   },
   "file_extension": ".py",
   "mimetype": "text/x-python",
   "name": "python",
   "nbconvert_exporter": "python",
   "pygments_lexer": "ipython3",
   "version": "3.8.9"
  }
 },
 "nbformat": 4,
 "nbformat_minor": 5
}
