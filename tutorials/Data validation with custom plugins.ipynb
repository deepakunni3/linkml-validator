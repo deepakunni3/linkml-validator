{
 "cells": [
  {
   "cell_type": "markdown",
   "id": "bd6b112d",
   "metadata": {},
   "source": [
    "# Data validation with and custom plugins"
   ]
  },
  {
   "cell_type": "markdown",
   "id": "217889fb",
   "metadata": {},
   "source": [
    "Let us consider another scenario where we know our data is wrong but it is not possible to validate and identify such errors via JSONSchema.\n",
    "\n",
    "This will happen when we translate an RDF oriented data model into JSONSchema. There is loss of semantics and the constraints of JSONSchema becomes apparent."
   ]
  },
  {
   "cell_type": "markdown",
   "id": "f3b0a09f",
   "metadata": {},
   "source": [
    "## Schema"
   ]
  },
  {
   "cell_type": "markdown",
   "id": "388b88ea",
   "metadata": {},
   "source": [
    "We will use Biolink Model v3.1.1."
   ]
  },
  {
   "cell_type": "code",
   "execution_count": 1,
   "id": "79c8faab",
   "metadata": {},
   "outputs": [],
   "source": [
    "schema_url = \"https://raw.githubusercontent.com/biolink/biolink-model/v3.1.1/biolink-model.yaml\""
   ]
  },
  {
   "cell_type": "markdown",
   "id": "ff86df72",
   "metadata": {},
   "source": [
    "## Data"
   ]
  },
  {
   "cell_type": "markdown",
   "id": "ba0d2771",
   "metadata": {},
   "source": [
    "And we have a an object that is incorrect:"
   ]
  },
  {
   "cell_type": "code",
   "execution_count": 2,
   "id": "6acb0985",
   "metadata": {},
   "outputs": [],
   "source": [
    "data = {\n",
    "    \"id\": \"HGNC:9399\",\n",
    "    \"name\": \"PRKCD\",\n",
    "    \"category\": [\n",
    "        \"biolink:GeneEntity\" # <-- This should be a valid category from Biolink Model\n",
    "    ],\n",
    "    \"provided_by\": [\n",
    "        \"graph_nodes.tsv\"\n",
    "    ],\n",
    "    \"taxon\": \"NCBITaxon:9606\"\n",
    "}"
   ]
  },
  {
   "cell_type": "markdown",
   "id": "4b8a2744",
   "metadata": {},
   "source": [
    "## Define a custom validation plugin"
   ]
  },
  {
   "cell_type": "code",
   "execution_count": 3,
   "id": "34aea3cf",
   "metadata": {},
   "outputs": [],
   "source": [
    "from linkml_runtime.utils.schemaview import SchemaView\n",
    "\n",
    "from linkml_validator.validator import Validator\n",
    "from linkml_validator.plugins.base import BasePlugin\n",
    "from linkml_validator.models import ValidationResult, ValidationMessage\n",
    "from linkml_validator.utils import camelcase_to_sentencecase\n",
    "\n",
    "class MyCustomPlugin(BasePlugin):\n",
    "    \"\"\"\n",
    "    A plugin that checks if a given category of an object\n",
    "    is valid and exists in Biolink Model.\n",
    "    \"\"\"\n",
    "    NAME = \"MyCustomPlugin\"\n",
    "\n",
    "    def __init__(self, schema: str, **kwargs) -> None:\n",
    "        super().__init__(schema)\n",
    "        self.schemaview = SchemaView(schema)\n",
    "\n",
    "    def process(self, obj: dict, **kwargs) -> ValidationResult:\n",
    "        valid = True\n",
    "        categories = obj['category']\n",
    "        validation_messages = []\n",
    "        for category in categories:\n",
    "            category_name = camelcase_to_sentencecase(category.split(':')[1])\n",
    "            if category_name not in self.schemaview.all_classes():\n",
    "                valid = False\n",
    "                validation_message = ValidationMessage(\n",
    "                    severity='Error',\n",
    "                    field='category',\n",
    "                    value=category,\n",
    "                    message=f'Category {category} not in the schema'\n",
    "                )\n",
    "                validation_messages.append(validation_message)\n",
    "                break\n",
    "        result = ValidationResult(\n",
    "            plugin_name=self.NAME,\n",
    "            valid=valid,\n",
    "            validation_messages=validation_messages\n",
    "        )\n",
    "        return result\n"
   ]
  },
  {
   "cell_type": "markdown",
   "id": "5f0358f1",
   "metadata": {},
   "source": [
    "## Validating data using custom validation plugin"
   ]
  },
  {
   "cell_type": "markdown",
   "id": "e693cdca",
   "metadata": {},
   "source": [
    "First we instantiate the Validator with the Biolink Model YAML and provide a list of plugins:"
   ]
  },
  {
   "cell_type": "code",
   "execution_count": 4,
   "id": "cf08b198",
   "metadata": {},
   "outputs": [],
   "source": [
    "from linkml_validator.validator import Validator\n",
    "\n",
    "plugins = [\n",
    "    {\n",
    "        \"plugin_class\": MyCustomPlugin,\n",
    "        \"args\": {}\n",
    "    }\n",
    "]\n",
    "validator = Validator(schema=schema_url, plugins=plugins)"
   ]
  },
  {
   "cell_type": "markdown",
   "id": "bc79c3ef",
   "metadata": {},
   "source": [
    "Then we can validate our data against the Biolink Model:"
   ]
  },
  {
   "cell_type": "code",
   "execution_count": 5,
   "id": "5be706a9",
   "metadata": {},
   "outputs": [
    {
     "name": "stdout",
     "output_type": "stream",
     "text": [
      "[MyCustomPlugin] Category biolink:GeneEntity not in the schema for {'id': 'HGNC:9399', 'name': 'PRKCD', 'category': ['biolink:GeneEntity'], 'provided_by': ['graph_nodes.tsv'], 'taxon': 'NCBITaxon:9606'}\n"
     ]
    }
   ],
   "source": [
    "report = validator.validate(obj=data, target_class='Gene')\n",
    "\n",
    "if not report.valid:\n",
    "    for result in report.validation_results:\n",
    "        for message in result.validation_messages:\n",
    "            print(f\"[{result.plugin_name}] {message.message} for {report.object}\")"
   ]
  },
  {
   "cell_type": "code",
   "execution_count": null,
   "id": "ff44abe6",
   "metadata": {},
   "outputs": [],
   "source": []
  }
 ],
 "metadata": {
  "kernelspec": {
   "display_name": "Python 3 (ipykernel)",
   "language": "python",
   "name": "python3"
  },
  "language_info": {
   "codemirror_mode": {
    "name": "ipython",
    "version": 3
   },
   "file_extension": ".py",
   "mimetype": "text/x-python",
   "name": "python",
   "nbconvert_exporter": "python",
   "pygments_lexer": "ipython3",
   "version": "3.8.9"
  }
 },
 "nbformat": 4,
 "nbformat_minor": 5
}
